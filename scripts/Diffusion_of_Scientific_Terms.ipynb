{
 "cells": [
  {
   "cell_type": "markdown",
   "metadata": {
    "slideshow": {
     "slide_type": "slide"
    }
   },
   "source": [
    "\n",
    "\n",
    "This code is partly taken from \"Leaders and Followers\" of Jacob Eisenstein, 2019 - https://www.aclweb.org/anthology/N19-5003.pdf\n",
    "\n",
    "Linguistic interactions are complex games of give-and-take. Speakers tend to accommodate to each other, although the degree of accommodation is sometimes modulated by social differences such as relative status.\n",
    "This notebook employs the Hawkes Process to estimate influence weights between pairs of speakers.\n"
   ]
  },
  {
   "cell_type": "markdown",
   "metadata": {
    "slideshow": {
     "slide_type": "slide"
    }
   },
   "source": [
    "# Importing libraries\n",
    "\n",
    "We'll use the `pyhawkes` library for Hawkes processes (https://github.com/slinderman/pyhawkes/). Install by\n",
    "\n",
    "```\n",
    "pip install --user pyhawkes\n",
    "```\n",
    "\n",
    "This library implements the standard HP as well as many interesting Bayesian variants, described by [Linderman and Adams](https://arxiv.org/abs/1507.03228). We'll only use with the standard HP in this notebook."
   ]
  },
  {
   "cell_type": "code",
   "execution_count": null,
   "metadata": {
    "collapsed": true
   },
   "outputs": [],
   "source": []
  },
  {
   "cell_type": "code",
   "execution_count": 1,
   "metadata": {
    "collapsed": true,
    "slideshow": {
     "slide_type": "skip"
    }
   },
   "outputs": [],
   "source": [
    "import pandas as pd\n",
    "import matplotlib.pyplot as plt\n",
    "%matplotlib inline\n",
    "\n",
    "import numpy as np\n",
    "from sklearn.feature_extraction.text import CountVectorizer\n",
    "\n",
    "from tqdm import tqdm_notebook as tqdm\n",
    "\n",
    "import os, sys\n",
    "from glob import glob\n",
    "import pickle\n",
    "\n",
    "import pyhawkes\n",
    "\n",
    "import sys\n",
    "import math"
   ]
  },
  {
   "cell_type": "markdown",
   "metadata": {
    "slideshow": {
     "slide_type": "subslide"
    }
   },
   "source": [
    "## Loading the data"
   ]
  },
  {
   "cell_type": "code",
   "execution_count": 2,
   "metadata": {
    "collapsed": true
   },
   "outputs": [],
   "source": [
    "dir_address = '/Users/yuribizzoni/Downloads/'# here the directory to the corpus"
   ]
  },
  {
   "cell_type": "code",
   "execution_count": 424,
   "metadata": {
    "collapsed": false
   },
   "outputs": [
    {
     "name": "stdout",
     "output_type": "stream",
     "text": [
      "26820\n",
      "first line looks like this:  ['1', '105436', '1765', 'J. Parsons', 'Observation', 'the wood in which they lie was said to be cedar ; but it rather seems to be of sir , having a fissile grain like common deal wood , and is as easily split as that ; it is also extremely light , and its fibres are very loose , nor has it the least smell like cedar ; they have the same colour , which is of a yellowish cast ; but the cedar has a close smooth grain , though it is a light wood , and soft in itself : whereas this does not seem to be as hard as what we call white deal , which is esteemed the lightest and tenderest of all the class of firs .'] \n",
      "\n",
      "26819\n",
      "1980\n"
     ]
    },
    {
     "data": {
      "text/plain": [
       "1979"
      ]
     },
     "execution_count": 424,
     "metadata": {},
     "output_type": "execute_result"
    }
   ],
   "source": [
    "file = open(dir_address+'rsc4_herschel.tbl', encoding='latin1').read()\n",
    "lines = file.split(\"\\n\")\n",
    "tabs = [l.split(\"\\t\") for l in lines]\n",
    "tabs.reverse()\n",
    "print(len(tabs))\n",
    "print(\"first line looks like this: \",tabs[1],\"\\n\")\n",
    "\n",
    "outfile= open(letters_dir+\"rsc4_herschel-ordered.txt\",\"w\")\n",
    "for line in tabs:\n",
    "    #line = [str(e) for e in line]\n",
    "    if len(line)==6:\n",
    "        to_write = \"\\t\".join(line)\n",
    "        outfile.write(to_write+\"\\n\")\n",
    "outfile.close()\n",
    "\n",
    "# adapting the file\n",
    "tabs = [l for l in tabs if len(l)==6]\n",
    "print(len(tabs))\n",
    "new_doc = []\n",
    "pre_year, pre_author,all_text = 0,\"\",\"\"\"\"\"\"\n",
    "for line in tabs:\n",
    "    year, author, text = line[2], line[3], line[-1]\n",
    "    if year==pre_year and pre_author==author: all_text += text\n",
    "    else: \n",
    "        new_doc.append([int(pre_year),pre_author,all_text])\n",
    "        pre_year,pre_author,all_text=year,author,text\n",
    "        \n",
    "new_doc.append([int(pre_year),pre_author,all_text])\n",
    "print(len(new_doc))\n",
    "new_doc = [line for line in new_doc if len(line[-1])>1]\n",
    "new_doc.sort()\n",
    "len(new_doc)\n",
    "\n",
    "\n",
    "#print it out\n",
    "#outfile= open(letters_dir+\"rsc4_herschel-merged.tbl\",\"w\")\n",
    "#for line in new_doc:\n",
    "#    line = [str(e) for e in line]\n",
    "#    to_write = \"\\t\".join(line)\n",
    "#    outfile.write(to_write+\"\\n\")\n",
    "#outfile.close()"
   ]
  },
  {
   "cell_type": "code",
   "execution_count": 580,
   "metadata": {
    "collapsed": true,
    "jupyter": {
     "outputs_hidden": true
    }
   },
   "outputs": [
    {
     "name": "stdout",
     "output_type": "stream",
     "text": [
      "1780\n",
      "1780\n",
      "1781\n",
      "1781\n",
      "1782\n",
      "1783\n",
      "1783\n",
      "1784\n",
      "1784\n",
      "1785\n",
      "1785\n",
      "1785\n",
      "1785\n",
      "1785\n",
      "1786\n",
      "1786\n",
      "1787\n",
      "1787\n",
      "1788\n",
      "1788\n",
      "1788\n",
      "1788\n",
      "1788\n",
      "1789\n",
      "1789\n",
      "1790\n",
      "1791\n",
      "1791\n",
      "1792\n",
      "1792\n",
      "1792\n",
      "1793\n",
      "1793\n",
      "1793\n",
      "1795\n",
      "1795\n",
      "1795\n",
      "1795\n",
      "1795\n",
      "1796\n",
      "1796\n",
      "1796\n",
      "1796\n",
      "1797\n",
      "1797\n",
      "1797\n",
      "1797\n",
      "1798\n",
      "1798\n",
      "1799\n",
      "1799\n",
      "1799\n",
      "1799\n",
      "1800\n",
      "1800\n",
      "1800\n",
      "1800\n",
      "1800\n",
      "1800\n",
      "1800\n",
      "1800\n",
      "1800\n",
      "1800\n",
      "1800\n",
      "1800\n",
      "1800\n",
      "1800\n",
      "1800\n",
      "1800\n",
      "1801\n",
      "1801\n",
      "1801\n",
      "1801\n",
      "1801\n",
      "1802\n",
      "1802\n",
      "1802\n",
      "1804\n",
      "1804\n",
      "1804\n",
      "1805\n",
      "1805\n",
      "1805\n",
      "1805\n",
      "1805\n",
      "1805\n",
      "1806\n",
      "1806\n",
      "1807\n",
      "1807\n",
      "1808\n",
      "1808\n",
      "1808\n",
      "1808\n",
      "1809\n",
      "1809\n",
      "1809\n",
      "1809\n",
      "1809\n",
      "1809\n",
      "1810\n",
      "1810\n",
      "1810\n",
      "1810\n",
      "1811\n",
      "1811\n",
      "1811\n",
      "1811\n",
      "1811\n",
      "1813\n",
      "1813\n",
      "1813\n",
      "1814\n",
      "1814\n",
      "1814\n",
      "1815\n",
      "1815\n",
      "1815\n",
      "1815\n",
      "1815\n",
      "1815\n",
      "1815\n",
      "1815\n",
      "1815\n",
      "1815\n",
      "1815\n",
      "1815\n",
      "1815\n",
      "1815\n",
      "1815\n",
      "1815\n",
      "1815\n",
      "1815\n",
      "1815\n",
      "1815\n",
      "1815\n",
      "1815\n",
      "1815\n",
      "1815\n",
      "1815\n",
      "1815\n",
      "1815\n",
      "1815\n",
      "1815\n",
      "1815\n",
      "1815\n",
      "1815\n",
      "1816\n",
      "1816\n",
      "1817\n",
      "1817\n",
      "1817\n",
      "1817\n",
      "1817\n",
      "1817\n",
      "1817\n",
      "1818\n",
      "1819\n",
      "1819\n",
      "1819\n",
      "1819\n",
      "1820\n",
      "1820\n",
      "1820\n",
      "1820\n",
      "1820\n",
      "1820\n",
      "1821\n",
      "1821\n",
      "1821\n",
      "1822\n",
      "1822\n",
      "1822\n",
      "1822\n",
      "1822\n",
      "1822\n",
      "1823\n",
      "1823\n",
      "1823\n",
      "1823\n",
      "1824\n",
      "1824\n",
      "1824\n",
      "1824\n",
      "1824\n",
      "1825\n",
      "1825\n",
      "1825\n",
      "1825\n",
      "1825\n",
      "1825\n",
      "1826\n",
      "1826\n",
      "1826\n",
      "1826\n",
      "1826\n",
      "1826\n",
      "1826\n",
      "1827\n",
      "1827\n",
      "1827\n",
      "1827\n",
      "1827\n",
      "1827\n",
      "1827\n",
      "1827\n",
      "1828\n",
      "1828\n",
      "1828\n",
      "1829\n",
      "1829\n",
      "1829\n",
      "1829\n",
      "1829\n",
      "1830\n",
      "1830\n",
      "1830\n",
      "1830\n",
      "1830\n",
      "1830\n",
      "1830\n",
      "1830\n",
      "1830\n",
      "1830\n",
      "1830\n",
      "1830\n",
      "1830\n",
      "1830\n",
      "1830\n",
      "1830\n",
      "1830\n",
      "1830\n",
      "1830\n",
      "1830\n",
      "1830\n",
      "1830\n",
      "1830\n",
      "1830\n",
      "1830\n",
      "1830\n",
      "1830\n",
      "1830\n",
      "1830\n",
      "1831\n",
      "1831\n",
      "1831\n",
      "1832\n",
      "1832\n",
      "1832\n",
      "1832\n",
      "1832\n",
      "1832\n",
      "1832\n",
      "1832\n",
      "1833\n",
      "1833\n",
      "1833\n",
      "1833\n",
      "1833\n",
      "1833\n",
      "1833\n",
      "1833\n",
      "1834\n",
      "1834\n",
      "1834\n",
      "1834\n",
      "1834\n",
      "1834\n",
      "1834\n",
      "1834\n",
      "1835\n",
      "1835\n",
      "1835\n",
      "1835\n",
      "1835\n",
      "1835\n",
      "1836\n",
      "1836\n",
      "1836\n",
      "1836\n",
      "1836\n",
      "1836\n",
      "1836\n",
      "1836\n",
      "1837\n",
      "1837\n",
      "1837\n",
      "1837\n",
      "1837\n",
      "1837\n",
      "1837\n",
      "1837\n",
      "1837\n",
      "1837\n",
      "1837\n",
      "1837\n",
      "1837\n",
      "1837\n",
      "1837\n",
      "1837\n",
      "1837\n",
      "1837\n",
      "1837\n",
      "1837\n",
      "1837\n",
      "1837\n",
      "1837\n",
      "1837\n",
      "1837\n",
      "1837\n",
      "1837\n",
      "1837\n",
      "1837\n",
      "1837\n",
      "1837\n",
      "1837\n",
      "1837\n",
      "1837\n",
      "1837\n",
      "1837\n",
      "1837\n",
      "1837\n",
      "1837\n",
      "1837\n",
      "1837\n",
      "1837\n",
      "1837\n",
      "1837\n",
      "1837\n",
      "1837\n",
      "1837\n",
      "1837\n",
      "1837\n",
      "1837\n",
      "1837\n",
      "1837\n",
      "1837\n",
      "1837\n",
      "1837\n",
      "1837\n",
      "1837\n",
      "1837\n",
      "1838\n",
      "1838\n",
      "1838\n",
      "1838\n",
      "1838\n",
      "1839\n",
      "1839\n",
      "1839\n",
      "1840\n",
      "1840\n",
      "1840\n",
      "1840\n",
      "1840\n",
      "1840\n",
      "1841\n",
      "1841\n",
      "1841\n",
      "1841\n",
      "1841\n",
      "1842\n",
      "1842\n",
      "1842\n",
      "1842\n",
      "1842\n",
      "1842\n",
      "1842\n",
      "1843\n",
      "1843\n",
      "1843\n",
      "1843\n",
      "1843\n",
      "1843\n",
      "1843\n",
      "1843\n",
      "1843\n",
      "1843\n",
      "1843\n",
      "1843\n",
      "1843\n",
      "1843\n",
      "1843\n",
      "1843\n",
      "1843\n",
      "1843\n",
      "1843\n",
      "1843\n",
      "1843\n",
      "1843\n",
      "1843\n",
      "1843\n",
      "1843\n",
      "1843\n",
      "1843\n",
      "1843\n",
      "1843\n",
      "1843\n",
      "1843\n",
      "1843\n",
      "1843\n",
      "1843\n",
      "1843\n",
      "1843\n",
      "1843\n",
      "1843\n",
      "1843\n",
      "1843\n",
      "1843\n",
      "1843\n",
      "1843\n",
      "1843\n",
      "1843\n",
      "1843\n",
      "1843\n",
      "1843\n",
      "1843\n",
      "1843\n",
      "1843\n",
      "1843\n",
      "1844\n",
      "1844\n",
      "1844\n",
      "1844\n",
      "1844\n",
      "1844\n",
      "1844\n",
      "1845\n",
      "1845\n",
      "1845\n",
      "1846\n",
      "1846\n",
      "1846\n",
      "1846\n",
      "1846\n",
      "1846\n",
      "1846\n",
      "1846\n",
      "1846\n",
      "1846\n",
      "1846\n",
      "1847\n",
      "1847\n",
      "1847\n",
      "1848\n",
      "1848\n",
      "1848\n",
      "1848\n",
      "1849\n",
      "1849\n",
      "1849\n",
      "1849\n",
      "1849\n",
      "1849\n",
      "1849\n",
      "1849\n",
      "1849\n",
      "1849\n",
      "1849\n"
     ]
    }
   ],
   "source": [
    "\n",
    "file = open(letters_dir+'rsc4_hematology-merged.tbl', encoding='latin1').read()\n",
    "lines = file.split(\"\\n\")\n",
    "tabs = [l.split(\"\\t\") for l in lines]\n",
    "prey=0\n",
    "for tab in tabs:\n",
    "    if len(tab[0])>1:\n",
    "        year = int(tab[0])\n",
    "        print(year)\n",
    "        if prey>year: print(\"A Warning\")\n",
    "        prey=year"
   ]
  },
  {
   "cell_type": "code",
   "execution_count": 1641,
   "metadata": {
    "collapsed": true,
    "slideshow": {
     "slide_type": "fragment"
    }
   },
   "outputs": [],
   "source": [
    "df = pd.read_csv(os.path.join(letters_dir, 'rsc4_chem_terms-sorted.tbl'), #rsc4_chem_terms-sorted-merged.tbl\n",
    "                 delimiter='\\t',\n",
    "                 names=\"number number2 year author field text\".split(), encoding='latin-1')#, engine=\"python\",quotechar='\"', error_bad_lines=False)\n",
    "                 #names=['line','year','author','text'])  #m"
   ]
  },
  {
   "cell_type": "code",
   "execution_count": 1642,
   "metadata": {
    "collapsed": false,
    "jupyter": {
     "outputs_hidden": true
    },
    "scrolled": true
   },
   "outputs": [
    {
     "name": "stdout",
     "output_type": "stream",
     "text": [
      "       number  number2  year                            author  \\\n",
      "0           1   105870  1770                  William Hamilton   \n",
      "1           1   105870  1770                  William Hamilton   \n",
      "2           1   105870  1770                  William Hamilton   \n",
      "3           1   105870  1770                  William Hamilton   \n",
      "4           1   105871  1770                   Philip Carteret   \n",
      "5           1   105873  1770                   James Johnstone   \n",
      "6           1   105875  1770                   Charles Douglas   \n",
      "7           1   105875  1770                   Charles Douglas   \n",
      "8           1   105875  1770                   Charles Douglas   \n",
      "9           1   105875  1770                   Charles Douglas   \n",
      "10          1   105877  1770                 Daines Barrington   \n",
      "11          1   105877  1770                 Daines Barrington   \n",
      "12          1   105878  1770                       Samuel Dunn   \n",
      "13          1   105879  1770                 Keane Fitz Gerald   \n",
      "14          1   105881  1770  Thomas Woollcombe|J. Cor. Huxham   \n",
      "15          1   105882  1770                     William Wales   \n",
      "16          1   105882  1770                     William Wales   \n",
      "17          1   105882  1770                     William Wales   \n",
      "18          1   105882  1770                     William Wales   \n",
      "19          1   105882  1770                     William Wales   \n",
      "20          1   105882  1770                     William Wales   \n",
      "21          1   105882  1770                     William Wales   \n",
      "22          1   105882  1770                     William Wales   \n",
      "23          1   105882  1770                     William Wales   \n",
      "24          1   105883  1770       Joseph Dymond|William Wales   \n",
      "25          1   105883  1770       Joseph Dymond|William Wales   \n",
      "26          1   105883  1770       Joseph Dymond|William Wales   \n",
      "27          1   105884  1770                      John Strange   \n",
      "28          1   105885  1770                       Tho. Davies   \n",
      "29          1   105885  1770                       Tho. Davies   \n",
      "...       ...      ...   ...                               ...   \n",
      "19076       1   107506  1819                    David Brewster   \n",
      "19077       1   107506  1819                    David Brewster   \n",
      "19078       1   107506  1819                    David Brewster   \n",
      "19079       1   107506  1819                    David Brewster   \n",
      "19080       1   107506  1819                    David Brewster   \n",
      "19081       1   107506  1819                    David Brewster   \n",
      "19082       1   107506  1819                    David Brewster   \n",
      "19083       1   107506  1819                    David Brewster   \n",
      "19084       1   107506  1819                    David Brewster   \n",
      "19085       1   107506  1819                    David Brewster   \n",
      "19086       1   107506  1819                    David Brewster   \n",
      "19087       1   107506  1819                    David Brewster   \n",
      "19088       1   107506  1819                    David Brewster   \n",
      "19089       1   107506  1819                    David Brewster   \n",
      "19090       1   107506  1819                    David Brewster   \n",
      "19091       1   107507  1819                      Arthur Jacob   \n",
      "19092       1   107507  1819                      Arthur Jacob   \n",
      "19093       1   107507  1819                      Arthur Jacob   \n",
      "19094       1   107507  1819                      Arthur Jacob   \n",
      "19095       1   107507  1819                      Arthur Jacob   \n",
      "19096       1   107507  1819                      Arthur Jacob   \n",
      "19097       1   107507  1819                      Arthur Jacob   \n",
      "19098       1   107507  1819                      Arthur Jacob   \n",
      "19099       1   107507  1819                      Arthur Jacob   \n",
      "19100       1   107508  1819                      W. G. Horner   \n",
      "19101       1   107508  1819                      W. G. Horner   \n",
      "19102       1   107508  1819                      W. G. Horner   \n",
      "19103       1   107508  1819                      W. G. Horner   \n",
      "19104       1   107508  1819                      W. G. Horner   \n",
      "19105       1   107508  1819                      W. G. Horner   \n",
      "\n",
      "                field                                               text  \n",
      "0           Geography  it is amazing to me that trees should flourish...  \n",
      "1           Geography  the air was so very pure and keen in the whole...  \n",
      "2           Geography  the common received opinion is , that these er...  \n",
      "3           Geography  the steep ascent , the keenness of the air , t...  \n",
      "4         Observation  we regaled them with such things as we had ; t...  \n",
      "5        Physiology I  in this situation , in several of these animal...  \n",
      "6           Geography  after much enquiry , i could learn nothing sat...  \n",
      "7           Geography  i found the inconvenience however of making th...  \n",
      "8           Geography  the foregoing thermometrical experiments , mad...  \n",
      "9           Geography  the simple agitation of the water would suffic...  \n",
      "10         Headmatter  he then played a symphony which might correspo...  \n",
      "11         Headmatter  i must suppose , however , that the reader 's ...  \n",
      "12       Solar System  and now , in an instant , the northern part of...  \n",
      "13     Thermodynamics  but as the density is found to decrease by the...  \n",
      "14       Physiology I  on examining the wound , and finding no extran...  \n",
      "15        Observation  at the beginning of the winter i hung a small ...  \n",
      "16        Observation  during the months of june and july , the vast ...  \n",
      "17        Observation  i apprehend , however , that this had not long...  \n",
      "18        Observation  i beg leave likewise to mention what i apprehe...  \n",
      "19        Observation  i saw no other wood , of any kind , that would...  \n",
      "20        Observation  it was about as high out of the water as our m...  \n",
      "21        Observation  i will not take upon me to say that they are n...  \n",
      "22        Observation  the prodigious difference between the latitude...  \n",
      "23        Observation  the yard of the factory was that day almost co...  \n",
      "24            Weather  instantaneously , a perfect hurricane in the n...  \n",
      "25            Weather  n. b. i could just perceive that some water on...  \n",
      "26            Weather  this morning a glass of brandy , exposed in th...  \n",
      "27              Latin  these descriptions may perhaps appear imperfec...  \n",
      "28        Observation  a composition of sublimate mercury , tempered ...  \n",
      "29        Observation  the skin must then be carefully loosened from ...  \n",
      "...               ...                                                ...  \n",
      "19076     Chemistry I  the same effect takes place with the second ki...  \n",
      "19077     Chemistry I  the singular nature of this substance will app...  \n",
      "19078     Chemistry I  the very high refractive power of sulphur , ph...  \n",
      "19079     Chemistry I  this conclusion is rendered more probable , wh...  \n",
      "19080     Chemistry I  this effect , which could not take place in an...  \n",
      "19081     Chemistry I  this extraordinary result which , as it were ,...  \n",
      "19082     Chemistry I  this hypothetical combination of air and alcoh...  \n",
      "19083     Chemistry I  tints of the ruby ; from oil of beech nut , th...  \n",
      "19084     Chemistry I  upon taking the tabasheer out of the glass tub...  \n",
      "19085     Chemistry I  we are now prepared by the preceding observati...  \n",
      "19086     Chemistry I  when alcohol is poured into water in a glass v...  \n",
      "19087     Chemistry I  when immersed in water , it disengages the inc...  \n",
      "19088     Chemistry I  when it was held in the flame of alcohol or of...  \n",
      "19089     Chemistry I  when slightly wetted in this state , it become...  \n",
      "19090     Chemistry I  when the pores of hydrophane are filled with a...  \n",
      "19091   Physiology II  besides being connected to the retina , i find...  \n",
      "19092   Physiology II  if a few drops of acid be added to the water a...  \n",
      "19093   Physiology II  if a small opening be made in the membrane , a...  \n",
      "19094   Physiology II  i have before me the eye of a sheep killed thi...  \n",
      "19095   Physiology II  in the eye a distinction of parts was necessar...  \n",
      "19096   Physiology II  my observations lead me to conclude , that whe...  \n",
      "19097   Physiology II  that it isnot the nervous layer which i detach...  \n",
      "19098   Physiology II  that the medullary expansion of the optic nerv...  \n",
      "19099   Physiology II  the part may thus be examined under the most f...  \n",
      "19100     Mathematics  but it comes into most useful application in t...  \n",
      "19101     Mathematics  if it were proposed to obtain a very accurate ...  \n",
      "19102     Mathematics  it agrees in substance with the method deduced...  \n",
      "19103     Mathematics  ) it appears to me , that no explanation of th...  \n",
      "19104     Mathematics  it cannot fail to be observed , that in all th...  \n",
      "19105     Mathematics  it is sufficient to state that they may be con...  \n",
      "\n",
      "[19106 rows x 6 columns]\n"
     ]
    },
    {
     "data": {
      "text/plain": [
       "19109"
      ]
     },
     "execution_count": 1642,
     "metadata": {},
     "output_type": "execute_result"
    }
   ],
   "source": [
    "# the texts look like this\n",
    "\n",
    "print(df.head(-3))\n",
    "len(df)\n"
   ]
  },
  {
   "cell_type": "code",
   "execution_count": 1677,
   "metadata": {
    "collapsed": true
   },
   "outputs": [],
   "source": [
    "oxygroup = \"oxyg, phlogiston, dephlogisticated, acid, water, gas, hydrogen, hydrogene, substance, solution, oxide, compound, muriatic\".split(', ')"
   ]
  },
  {
   "cell_type": "code",
   "execution_count": 1683,
   "metadata": {
    "collapsed": false
   },
   "outputs": [
    {
     "name": "stdout",
     "output_type": "stream",
     "text": [
      "1350\n",
      "1350 4\n",
      "1781\n",
      "1782\n",
      "1783\n",
      "1783\n",
      "William Herschel compound\n",
      " of the sun between so many other ( and variously compounded ) motions of the stars .we see also , t\n",
      "1784\n",
      "William Herschel compound\n",
      "and give a true measure notwithstanding ; and the compound eye-piece i used with the 20-feet reflect\n",
      "1784\n",
      "William Andre|Joseph Banks|William Herschel substance\n",
      "f calcareous earth already deposited within their substance .there is not only a difference of their\n",
      "1785\n",
      "William Herschel solution\n",
      "unt , such gages may very justly be admitted in a solution where practical truth rather than mathema\n",
      "William Herschel compound\n",
      "cision is the end we have in view .but then these compound or double nebulae , which are those of th\n",
      "1790\n",
      "William Herschel substance\n",
      " borealis , than a reflection from some permanent substance ; but its disapparition in general , and\n",
      "1793\n",
      "1794\n",
      "1795\n",
      "William Herschel water\n",
      "d , the birds fly in the air , and fishes swim in water ; ' we can certainly not object to the conve\n",
      "William Herschel substance\n",
      " should be sufficient to fuse the most refractory substances.* it will not be necessary to mention o\n",
      "1795\n",
      "William Herschel water\n",
      "off in order to secure the mirror , many drops of water would unavoidably fall upon it from this wet\n",
      "William Herschel substance\n",
      "\n",
      "1796\n",
      "William Herschel solution\n",
      " burning summers , may possibly meet with an easy solution in the real inequality of the sun 's rays\n",
      "William Herschel compound\n",
      "\n",
      "1797\n",
      "1798\n",
      "1800\n",
      "William Herschel gas\n",
      "o its quantity .that light , flame , and luminous gases are penetrable to the rays of light , we kno\n",
      "1800\n",
      "William Herschel substance\n",
      "ts , and to see the , effect differently coloured substances might have on the rays of light , i pro\n",
      "William Herschel solution\n",
      "he confines of red ; and this will afford an easy solution of the reflection of invisible heat by co\n",
      "William Herschel compound\n",
      "aic the focal length of object-glasses ; but , in compound vision , such as in-a microscope , where \n",
      "1800\n",
      "William Herschel water\n",
      "attered rays of fire-heat .then , filling it with water , and receiving the spoctrum , when exposed \n",
      "William Herschel substance\n",
      "n of terrestrial scattered light througig various substances ; with a short account of the method by\n",
      "1800\n",
      "William Herschel substance\n",
      "\n",
      "William Herschel solution\n",
      " till it ceases to shine , and likewise affords a solution of the reflection of invisible heat by co\n",
      "1800\n",
      "William Herschel substance\n",
      "culiar texture 6r configuration in the diaphanous substances , which produce differences in the tran\n",
      "1800\n",
      "William Herschel gas\n",
      "occasioned by some emanation , perhaps an elastic gas , coming out of the openings , which by its pr\n",
      "1800\n",
      "William Herschel water\n",
      "as spirits of wine , port wine , ink diluted with water , a solution of green vitriol with a small p\n",
      "William Herschel solution\n",
      " of wine , port wine , ink diluted with water , a solution of green vitriol with a small proportion \n",
      "1800\n",
      "1800\n",
      "William Herschel substance\n",
      "it is not necessary that the surface of the under substance should be plain .\n",
      "1800\n",
      "1801\n",
      "William Herschel water\n",
      "he truth of the theory of the tides , though high water at bristol , liverpool , or hull , should ha\n",
      "William Herschel gas\n",
      " lip is visible in the opening itself , as if the gas , in coming out , pressed against the luminous\n",
      "1801\n",
      "William Herschel water\n",
      "wed the sun through a mixture of ink diluted with water , and filtred through paper .a solution of g\n",
      "William Herschel gas\n",
      " indicates a perpendicular ascent of the empyreal gas that breaks through the atmospheric clouds ; a\n",
      "William Herschel solution\n",
      "diluted with water , and filtred through paper .a solution of green vitriol , with a sufficient numb\n",
      "1802\n",
      "1802\n",
      "William Herschel solution\n",
      "reby the laws of attraction are applicable to the solution of the most complicated phenomena of the \n",
      "1803\n",
      "William Herschel water\n",
      "n , which is just before my garden , is all under water ; a'nd the grass on which i stand with my te\n",
      "1803\n",
      "William Herschel compound\n",
      "enforce the arguments which have been used , in a compound ratio .a skilful observer , however , wil\n",
      "1805\n",
      "William Herschel substance\n",
      "ials it appeared , that a perfect globule of this substance could not be taken up , the reason of wh\n",
      "1805\n",
      "1806\n",
      "1807\n",
      "William Herschel substance\n",
      " afford an entrance to the rays of light into the substance of the subjacent glass ; but when that l\n",
      "William Herschel compound\n",
      "\n",
      "1807\n",
      "1808\n",
      "1809\n",
      "William Herschel substance\n",
      "the irregular surface of island crystal and other substances , which all gave the same result .in th\n",
      "William Herschel solution\n",
      "to be shown , in order to approach gradually to a solution of my problem , is that the apparently ar\n",
      "William Herschel compound\n",
      "smitted , for which reason when they rise again a compound of them will produce streaks that approac\n",
      "1810\n",
      "William Herschel solution\n",
      "ich i have treated , admit of a most satisfactory solution , by substituting the solid principle of \n",
      "1811\n",
      "William Herschel water\n",
      "oportion of density is more : than double that of water to air .\n",
      "William Herschel substance\n",
      "fall towards the nucleus , when discharging their substance into the chevelure , produce a kind of v\n",
      "1812\n",
      "William Herschel substance\n",
      "end beyond the region which contained the shining substance , we can have no observation to ascertai\n",
      "1814\n",
      "William Herschel compound\n",
      "al 2ft7o mass , or , what is more probable in the compound energy of the stars about the centre .\n",
      "1815\n",
      "1815\n",
      "John Frederick William Herschel solution\n",
      "nstruments are yet incompetent to afford a direct solution , and in the discussion of which we have \n",
      "1817\n"
     ]
    }
   ],
   "source": [
    "file = open(letters_dir+'rsc4_chem_terms-sorted-merged.tbl', encoding='latin1').read()\n",
    "lines = file.split(\"\\n\")\n",
    "print(len(lines))\n",
    "tabs = [l.split(\"\\t\") for l in lines]\n",
    "print(len(tabs), len(tabs[10]))\n",
    "tabs = [t for t in tabs if len(t)==4]\n",
    "for t in tabs:\n",
    "    line, year, name, text = t\n",
    "    if 'William Herschel' in name: \n",
    "        print(year)\n",
    "        for w in oxygroup:\n",
    "            if w in text:\n",
    "                print(name, w)\n",
    "                idx = text.index(w)\n",
    "                print(text[idx-50:idx+50])"
   ]
  },
  {
   "cell_type": "code",
   "execution_count": 1669,
   "metadata": {
    "collapsed": false
   },
   "outputs": [
    {
     "data": {
      "text/plain": [
       "['-1',\n",
       " '1774',\n",
       " 'William Henley|Richard Nairne',\n",
       " \"they had a severe thunder storm that night ; but think how pleased i was to find , that , from the wetness of the ship 's sides , the electricity passed into the water , without the least injury to the ship ; but the spark on the point of the conductor , which was very sharp , was so lucid , that my people were very much frightned .this key is terminated by a thick blunted end : the spire is covered with lead , from the key to the brick tower ; and so far the lightning was conducted with safety to the building ; nor could i observe , that there had been the least fusion upon the metal ; some parts of it , however , i could not get at to examine ; but having quitted the lead work , and entered the brick tower , it there did considerable damage , till it reached the leaded roof on the body of the church ; whence it seems to have been conducted , by the pipes , which carry down the rain water , and which reach to the bottom of the building , without further damage .\"]"
      ]
     },
     "execution_count": 1669,
     "metadata": {},
     "output_type": "execute_result"
    }
   ],
   "source": [
    "#df[dim]\n",
    "tabs[100]"
   ]
  },
  {
   "cell_type": "code",
   "execution_count": 1369,
   "metadata": {
    "collapsed": true
   },
   "outputs": [],
   "source": [
    "#choose the dimension\n",
    "dim = 'author'"
   ]
  },
  {
   "cell_type": "code",
   "execution_count": 1370,
   "metadata": {
    "collapsed": true
   },
   "outputs": [],
   "source": [
    "prob = dict(df[dim].value_counts())"
   ]
  },
  {
   "cell_type": "code",
   "execution_count": 1371,
   "metadata": {
    "collapsed": true
   },
   "outputs": [],
   "source": [
    "speakers_ = [a for a in df['author'] if a.__class__ == str]\n",
    "#print(speakers_)"
   ]
  },
  {
   "cell_type": "code",
   "execution_count": 1629,
   "metadata": {
    "collapsed": false,
    "slideshow": {
     "slide_type": "skip"
    }
   },
   "outputs": [
    {
     "name": "stdout",
     "output_type": "stream",
     "text": [
      "25\n",
      "['Joseph Priestley', 'Henry Cavendish', 'John Hunter', 'Charles Blagden', 'Tiberius Cavallo', 'Richard Kirwan', 'William Herschel', 'Everard Home', 'Smithson Tennant', 'George Pearson', 'Charles Hatchett', 'Anthony Carlisle', 'Thomas Young', 'William Hyde Wollaston', 'William Henry', 'Count de Bournon', 'Richard Chenevix', 'Thomas Andrew Knight', 'Humphry Davy', 'James Smithson', 'H. Davy', 'B. C. Brodie', 'William Thomas Brande', 'John Davy', 'David Brewster']\n"
     ]
    }
   ],
   "source": [
    "speakers = []\n",
    "for speaker in speakers_: \n",
    "    if speaker not in speakers and prob[speaker]>7: speakers.append(speaker)\n",
    "\n",
    "K = len(speakers)\n",
    "print(K)\n",
    "print(speakers[:30])  ### here the 'speakers' are gender_per_period artificial groups"
   ]
  },
  {
   "cell_type": "code",
   "execution_count": 1451,
   "metadata": {
    "collapsed": false
   },
   "outputs": [
    {
     "data": {
      "text/plain": [
       "24"
      ]
     },
     "execution_count": 1451,
     "metadata": {},
     "output_type": "execute_result"
    }
   ],
   "source": [
    "#speakers += ['Caroline Herschel']\n",
    "speakers = [s for s in speakers if s != 'H. Davy']\n",
    "len(speakers)"
   ]
  },
  {
   "cell_type": "markdown",
   "metadata": {
    "slideshow": {
     "slide_type": "slide"
    }
   },
   "source": [
    "## Text processing\n",
    "\n",
    "Now let's process the text, building a vocabulary of the words used by the writers."
   ]
  },
  {
   "cell_type": "markdown",
   "metadata": {
    "slideshow": {
     "slide_type": "subslide"
    }
   },
   "source": [
    "We build a vocabulary by using the `CountVectorizer` class from `scikit-learn`."
   ]
  },
  {
   "cell_type": "code",
   "execution_count": 1453,
   "metadata": {
    "collapsed": true,
    "slideshow": {
     "slide_type": "slide"
    }
   },
   "outputs": [],
   "source": [
    "neb_var = 'nebula|nebulae|nebule|nebulosity|nebulous|nebular|nebulosa|nebulas'\n",
    "ast_var = '|saturn|luminous|brightness|illuminate|position|cluster|object|lustre|spectrum|bright|eye|star|ray|light|catalogue|formation|rotation'\n",
    "#hem_var = 'germ, tissue, blood corpuscle, blood corpuscles, ovary, larva, filament, vesicle, germinal, corpuscle, corpuscles, plexus'.replace(', ','|')"
   ]
  },
  {
   "cell_type": "code",
   "execution_count": 1454,
   "metadata": {
    "collapsed": false,
    "slideshow": {
     "slide_type": "fragment"
    }
   },
   "outputs": [
    {
     "data": {
      "text/plain": [
       "CountVectorizer(max_features=5000, token_pattern='oxygen')"
      ]
     },
     "execution_count": 1454,
     "metadata": {},
     "output_type": "execute_result"
    }
   ],
   "source": [
    "tok_pat = 'oxygen'#neb_var+ast_var#'phlogist'#neb_var+#'(?u)\\\\b[A-z][A-z]+\\\\b'\n",
    "vec = CountVectorizer(max_features=5000, token_pattern=tok_pat)#, adjust at pleasure\n",
    "vec.fit(df.loc[df[dim].apply(lambda x : x in speakers)]['text'])"
   ]
  },
  {
   "cell_type": "code",
   "execution_count": 1455,
   "metadata": {
    "collapsed": false,
    "slideshow": {
     "slide_type": "fragment"
    }
   },
   "outputs": [
    {
     "name": "stdout",
     "output_type": "stream",
     "text": [
      "1\n"
     ]
    }
   ],
   "source": [
    "print(len(vec.vocabulary_))"
   ]
  },
  {
   "cell_type": "code",
   "execution_count": 1456,
   "metadata": {
    "collapsed": false,
    "slideshow": {
     "slide_type": "fragment"
    }
   },
   "outputs": [
    {
     "data": {
      "text/plain": [
       "False"
      ]
     },
     "execution_count": 1456,
     "metadata": {},
     "output_type": "execute_result"
    }
   ],
   "source": [
    "'oxygene' in vec.vocabulary_ #sanity check"
   ]
  },
  {
   "cell_type": "code",
   "execution_count": 1457,
   "metadata": {
    "collapsed": false
   },
   "outputs": [
    {
     "data": {
      "text/plain": [
       "['oxygen']"
      ]
     },
     "execution_count": 1457,
     "metadata": {},
     "output_type": "execute_result"
    }
   ],
   "source": [
    "#vec.vocabulary_\n",
    "words = [k for k in vec.vocabulary_.keys()]\n",
    "words"
   ]
  },
  {
   "cell_type": "code",
   "execution_count": 1458,
   "metadata": {
    "collapsed": false
   },
   "outputs": [
    {
     "name": "stdout",
     "output_type": "stream",
     "text": [
      "oxygen\n",
      "False\n"
     ]
    },
    {
     "name": "stderr",
     "output_type": "stream",
     "text": [
      "/Users/yuribizzoni/anaconda3/lib/python3.6/site-packages/ipykernel_launcher.py:14: DeprecationWarning: elementwise comparison failed; this will raise an error in the future.\n",
      "  \n"
     ]
    }
   ],
   "source": [
    "##making sure the vocaularies coincide\n",
    "\n",
    "def my_time(n,word,df):\n",
    "    c=[i for i in range(n) if word in df.loc[i][\"text\"].lower()]\n",
    "    return c\n",
    "\n",
    "w=words[0]\n",
    "print(w)\n",
    "X = vec.transform(df['text'])\n",
    "#print(X)\n",
    "T=X.shape[0]\n",
    "#print(my_time(T,w,df))\n",
    "#print(X[:,vec.vocabulary_[w]].nonzero()[0])\n",
    "print(my_time(T,\" \"+w+\" \",df)==X[:,vec.vocabulary_[w]].nonzero()[0])##bullssshittttt"
   ]
  },
  {
   "cell_type": "code",
   "execution_count": 1459,
   "metadata": {
    "collapsed": false
   },
   "outputs": [
    {
     "data": {
      "text/plain": [
       "array([ 423,  471,  492,  523,  541,  550,  551,  554,  559,  561,  563,\n",
       "        566,  569,  574,  576,  580,  583,  605,  606,  619,  621,  632,\n",
       "        639,  644,  660,  662,  663,  670,  671,  680,  689,  691,  699,\n",
       "        706,  707,  710,  722,  723,  726,  729,  740,  741,  745,  746,\n",
       "        747,  748,  750,  753,  762,  765,  767,  771,  772,  774,  783,\n",
       "        787,  790,  794,  795,  802,  805,  808,  818,  825,  827,  832,\n",
       "        835,  841,  848,  849,  854,  856,  858,  872,  873,  884,  890,\n",
       "        894,  896,  906,  914,  916,  919,  921,  922,  933,  934,  938,\n",
       "        943,  955,  960,  961,  962,  963,  965,  973,  974,  975,  976,\n",
       "        978,  984,  987,  991, 1001, 1005, 1007, 1009, 1011, 1015, 1020,\n",
       "       1025, 1026, 1027, 1030, 1032, 1033, 1034, 1037, 1038, 1039, 1044,\n",
       "       1045, 1047, 1057, 1061, 1062, 1063, 1081, 1082, 1087, 1089, 1103,\n",
       "       1117, 1120, 1135, 1137, 1146, 1162, 1165, 1171, 1177, 1185, 1187,\n",
       "       1198, 1210, 1212, 1221, 1224, 1228, 1234, 1249, 1263, 1265, 1266,\n",
       "       1269, 1286, 1287, 1307, 1312], dtype=int32)"
      ]
     },
     "execution_count": 1459,
     "metadata": {},
     "output_type": "execute_result"
    }
   ],
   "source": [
    "X[:,vec.vocabulary_[w]].nonzero()[0]"
   ]
  },
  {
   "cell_type": "code",
   "execution_count": 1461,
   "metadata": {
    "collapsed": true,
    "slideshow": {
     "slide_type": "skip"
    }
   },
   "outputs": [],
   "source": [
    "def make_cascades(data : pd.DataFrame, vocab : dict, speakers : list) -> list:\n",
    "    cascades = [None] * len(vocab)\n",
    "    X = vec.transform(data['text'])\n",
    "    T = X.shape[0]\n",
    "    K = len(speakers)\n",
    "    for word,idx in vocab.items():\n",
    "        #times = my_time(T,word,df) #\n",
    "        times = X[:,idx].nonzero()[0]\n",
    "        #print(times)\n",
    "        cascade = np.zeros((T,K)) # we represent the cascade as a matrix of times and sources\n",
    "        for time in times:\n",
    "            #print(\"time: \", time)\n",
    "            speaker = data.loc[time][dim]\n",
    "            if speaker in speakers:\n",
    "                cascade[time,speakers.index(speaker)] = X[time,idx]\n",
    "        cascades[idx] = cascade.astype('int')\n",
    "    return cascades"
   ]
  },
  {
   "cell_type": "code",
   "execution_count": 1463,
   "metadata": {
    "collapsed": false
   },
   "outputs": [
    {
     "data": {
      "text/plain": [
       "24"
      ]
     },
     "execution_count": 1463,
     "metadata": {},
     "output_type": "execute_result"
    }
   ],
   "source": [
    "len(speakers)"
   ]
  },
  {
   "cell_type": "code",
   "execution_count": 1465,
   "metadata": {
    "collapsed": false,
    "slideshow": {
     "slide_type": "fragment"
    }
   },
   "outputs": [
    {
     "name": "stdout",
     "output_type": "stream",
     "text": [
      "1331\n",
      "CPU times: user 60.9 ms, sys: 2.91 ms, total: 63.8 ms\n",
      "Wall time: 62.3 ms\n"
     ]
    }
   ],
   "source": [
    "%%time\n",
    "\n",
    "cascades = make_cascades(df, vec.vocabulary_, speakers)\n",
    "T = cascades[0].shape[0]\n",
    "print(T)\n",
    "cascades[0].shape"
   ]
  },
  {
   "cell_type": "code",
   "execution_count": 1466,
   "metadata": {
    "collapsed": false
   },
   "outputs": [
    {
     "data": {
      "text/plain": [
       "(True, False)"
      ]
     },
     "execution_count": 1466,
     "metadata": {},
     "output_type": "execute_result"
    }
   ],
   "source": [
    "'oxygen' in words, 'oxygenous' in words"
   ]
  },
  {
   "cell_type": "code",
   "execution_count": 1467,
   "metadata": {
    "collapsed": false
   },
   "outputs": [
    {
     "data": {
      "text/plain": [
       "1331"
      ]
     },
     "execution_count": 1467,
     "metadata": {},
     "output_type": "execute_result"
    }
   ],
   "source": [
    "#cascades[idx].nonzero()\n",
    "T"
   ]
  },
  {
   "cell_type": "code",
   "execution_count": 1469,
   "metadata": {
    "collapsed": false,
    "slideshow": {
     "slide_type": "subslide"
    }
   },
   "outputs": [
    {
     "data": {
      "text/plain": [
       "Text(0.5, 1.0, 'oxygen')"
      ]
     },
     "execution_count": 1469,
     "metadata": {},
     "output_type": "execute_result"
    },
    {
     "data": {
      "image/png": "[encoded data removed]",
      "text/plain": [
       "<Figure size 1080x1080 with 1 Axes>"
      ]
     },
     "metadata": {
      "needs_background": "light"
     },
     "output_type": "display_data"
    }
   ],
   "source": [
    "word = words[0]\n",
    "idx = vec.vocabulary_[word]\n",
    "time,speaker = cascades[idx].nonzero()\n",
    "plt.figure(figsize = (15,15))\n",
    "plt.scatter(time,speaker,color='r',marker='x', s=65)\n",
    "plt.xlim(400,T)\n",
    "plt.ylim(-1,len(speakers))\n",
    "plt.yticks(range(len(speakers)),speakers, size=20)\n",
    "#plt.savefig(\"oxygen_24authors_bigger.png\", bbox_inches=\"tight\")\n",
    "plt.title(word, size=20)"
   ]
  },
  {
   "cell_type": "code",
   "execution_count": 1195,
   "metadata": {
    "collapsed": false
   },
   "outputs": [
    {
     "data": {
      "text/plain": [
       "['bright',\n",
       " 'light',\n",
       " 'eye',\n",
       " 'ray',\n",
       " 'star',\n",
       " 'luminous',\n",
       " 'brightness',\n",
       " 'formation',\n",
       " 'position',\n",
       " 'object',\n",
       " 'nebulous',\n",
       " 'illuminate',\n",
       " 'saturn',\n",
       " 'lustre',\n",
       " 'rotation',\n",
       " 'catalogue',\n",
       " 'nebula',\n",
       " 'cluster',\n",
       " 'nebule',\n",
       " 'nebulosity',\n",
       " 'spectrum']"
      ]
     },
     "execution_count": 1195,
     "metadata": {},
     "output_type": "execute_result"
    }
   ],
   "source": [
    "words"
   ]
  },
  {
   "cell_type": "markdown",
   "metadata": {
    "slideshow": {
     "slide_type": "subslide"
    }
   },
   "source": [
    "## Time-decay kernel details\n",
    "\n",
    "In `pyhawkes`, the kernel function is modeled as a sum over $B$ simple basis models,\n",
    "\\begin{equation}\n",
    "\\kappa_{i\\to j}(\\Delta t) = \\sum_{b=1}^B g_b^{(i \\to j)} \\phi_b(\\Delta t).\n",
    "\\end{equation}\n",
    "- As the number of basis models increases, the decay kernel can be increasingly complex. \n",
    "- Each basis model is an impulse function, which is required to sum to 1.\n",
    "- The weights over basis models, $g_b$, are dyad-specific."
   ]
  },
  {
   "cell_type": "code",
   "execution_count": 1273,
   "metadata": {
    "collapsed": false
   },
   "outputs": [
    {
     "name": "stdout",
     "output_type": "stream",
     "text": [
      "2\n"
     ]
    }
   ],
   "source": [
    "#K #number of speakers\n",
    "K = len(speakers)\n",
    "#K1 = 00\n",
    "print(K)"
   ]
  },
  {
   "cell_type": "code",
   "execution_count": 1274,
   "metadata": {
    "collapsed": false
   },
   "outputs": [
    {
     "data": {
      "text/plain": [
       "1969"
      ]
     },
     "execution_count": 1274,
     "metadata": {},
     "output_type": "execute_result"
    }
   ],
   "source": [
    "len(cascades[0])"
   ]
  },
  {
   "cell_type": "code",
   "execution_count": 1260,
   "metadata": {
    "collapsed": false
   },
   "outputs": [
    {
     "data": {
      "text/plain": [
       "[<matplotlib.lines.Line2D at 0x1c315e2e10>,\n",
       " <matplotlib.lines.Line2D at 0x1c315e2358>,\n",
       " <matplotlib.lines.Line2D at 0x1c315e2908>,\n",
       " <matplotlib.lines.Line2D at 0x1c315e22b0>,\n",
       " <matplotlib.lines.Line2D at 0x1c315e2278>]"
      ]
     },
     "execution_count": 1260,
     "metadata": {},
     "output_type": "execute_result"
    },
    {
     "data": {
      "image/png": "[encoded data removed]",
      "text/plain": [
       "<Figure size 432x288 with 1 Axes>"
      ]
     },
     "metadata": {
      "needs_background": "light"
     },
     "output_type": "display_data"
    }
   ],
   "source": [
    "hp = pyhawkes.models.DiscreteTimeStandardHawkesModel(K,allow_self_connections=False,B=5, dt_max=40.0)\n",
    "plt.plot(hp.basis.basis)"
   ]
  },
  {
   "cell_type": "code",
   "execution_count": 1261,
   "metadata": {
    "collapsed": false,
    "slideshow": {
     "slide_type": "fragment"
    }
   },
   "outputs": [
    {
     "name": "stdout",
     "output_type": "stream",
     "text": [
      "2\n"
     ]
    }
   ],
   "source": [
    "hp = pyhawkes.models.DiscreteTimeStandardHawkesModel(K,allow_self_connections=False, B=K, dt_max=len(cascades[0]))\n",
    "print(hp.K)\n",
    "#hp = pyhawkes.models.DiscreteTimeStandardHawkesModel(K,allow_self_connections=False,B=5, dt_max=10.0)\n",
    "#print(hp.K)"
   ]
  },
  {
   "cell_type": "markdown",
   "metadata": {
    "slideshow": {
     "slide_type": "subslide"
    }
   },
   "source": [
    "## Adding training data\n",
    "\n",
    "We have already generated the cascades; now we add them as training data to the model."
   ]
  },
  {
   "cell_type": "code",
   "execution_count": 1263,
   "metadata": {
    "collapsed": false,
    "slideshow": {
     "slide_type": "fragment"
    }
   },
   "outputs": [
    {
     "name": "stdout",
     "output_type": "stream",
     "text": [
      "CPU times: user 73 ms, sys: 3.89 ms, total: 76.9 ms\n",
      "Wall time: 76.3 ms\n"
     ]
    }
   ],
   "source": [
    "%%time\n",
    "\n",
    "for cascade in cascades:\n",
    "    hp.add_data(cascade) #:0"
   ]
  },
  {
   "cell_type": "code",
   "execution_count": 1264,
   "metadata": {
    "collapsed": false
   },
   "outputs": [
    {
     "data": {
      "text/plain": [
       "list"
      ]
     },
     "execution_count": 1264,
     "metadata": {},
     "output_type": "execute_result"
    }
   ],
   "source": [
    "cascades.__class__"
   ]
  },
  {
   "cell_type": "markdown",
   "metadata": {
    "slideshow": {
     "slide_type": "subslide"
    }
   },
   "source": [
    "## Training"
   ]
  },
  {
   "cell_type": "code",
   "execution_count": 1265,
   "metadata": {
    "collapsed": false,
    "slideshow": {
     "slide_type": "skip"
    }
   },
   "outputs": [
    {
     "name": "stdout",
     "output_type": "stream",
     "text": [
      "<jupyter_client.session.Session object at 0x102a9f828> <ipykernel.iostream.IOPubThread object at 0x102a9fcc0> stdout\n"
     ]
    }
   ],
   "source": [
    "# Unfortunately `pyhawkes` doesn't give an easy way to suppress its output\n",
    "from ipykernel.iostream import OutStream\n",
    "\n",
    "session = sys.stdout.session\n",
    "pub_thread = sys.stdout.pub_thread\n",
    "stream_name = sys.stdout.name\n",
    "print(session, pub_thread, stream_name)"
   ]
  },
  {
   "cell_type": "code",
   "execution_count": 1266,
   "metadata": {
    "collapsed": true,
    "scrolled": true,
    "slideshow": {
     "slide_type": "fragment"
    }
   },
   "outputs": [],
   "source": [
    "sys.stdout = open('hp-output.txt', 'w')"
   ]
  },
  {
   "cell_type": "code",
   "execution_count": 1267,
   "metadata": {
    "collapsed": false
   },
   "outputs": [
    {
     "name": "stderr",
     "output_type": "stream",
     "text": [
      "/Users/yuribizzoni/anaconda3/lib/python3.6/site-packages/pyhawkes/models.py:416: RuntimeWarning: overflow encountered in exp\n",
      "  self.weights[k,:] = np.exp(x)\n",
      "/Users/yuribizzoni/.local/lib/python3.6/site-packages/numpy/core/_methods.py:38: RuntimeWarning: overflow encountered in reduce\n",
      "  return umr_sum(a, axis, dtype, out, keepdims, initial, where)\n",
      "/Users/yuribizzoni/anaconda3/lib/python3.6/site-packages/pyhawkes/models.py:421: RuntimeWarning: overflow encountered in exp\n",
      "  self.weights[k,:] = np.exp(x)\n",
      "/Users/yuribizzoni/anaconda3/lib/python3.6/site-packages/pyhawkes/models.py:416: RuntimeWarning: overflow encountered in exp\n",
      "  self.weights[k,:] = np.exp(x)\n",
      "/Users/yuribizzoni/.local/lib/python3.6/site-packages/numpy/core/_methods.py:38: RuntimeWarning: overflow encountered in reduce\n",
      "  return umr_sum(a, axis, dtype, out, keepdims, initial, where)\n"
     ]
    }
   ],
   "source": [
    "%%time\n",
    "\n",
    "hp.fit_with_bfgs_logspace()"
   ]
  },
  {
   "cell_type": "code",
   "execution_count": 1268,
   "metadata": {
    "collapsed": true
   },
   "outputs": [],
   "source": [
    "sys.stdout = OutStream(session, pub_thread, stream_name)"
   ]
  },
  {
   "cell_type": "markdown",
   "metadata": {
    "slideshow": {
     "slide_type": "subslide"
    }
   },
   "source": [
    "### Results"
   ]
  },
  {
   "cell_type": "code",
   "execution_count": 1212,
   "metadata": {
    "collapsed": false
   },
   "outputs": [
    {
     "data": {
      "text/plain": [
       "40"
      ]
     },
     "execution_count": 1212,
     "metadata": {},
     "output_type": "execute_result"
    }
   ],
   "source": [
    "len(speakers)"
   ]
  },
  {
   "cell_type": "code",
   "execution_count": null,
   "metadata": {
    "collapsed": true
   },
   "outputs": [],
   "source": []
  },
  {
   "cell_type": "markdown",
   "metadata": {},
   "source": [
    "All words, 20 authors\n",
    "Some words, 50 authors\n",
    "1 words, all authors"
   ]
  },
  {
   "cell_type": "code",
   "execution_count": null,
   "metadata": {
    "collapsed": true
   },
   "outputs": [],
   "source": [
    "## unviz\n",
    "to_rank = []\n",
    "chosen_speaker = 'Michael Faraday'\n",
    "idx = speakers.index(chosen_speaker)\n",
    "influences = hp.W[idx]\n",
    "for i in range(len(speakers)): \n",
    "    speaker = speakers[i]\n",
    "    to_rank.append((influences[i],speaker))\n",
    "    \n",
    "to_rank.sort()\n",
    "to_rank.reverse()\n",
    "to_rank"
   ]
  },
  {
   "cell_type": "code",
   "execution_count": null,
   "metadata": {
    "collapsed": true
   },
   "outputs": [],
   "source": [
    "### highest influence\n",
    "to_rank_highest_inf = []\n",
    "all_influences = hp.W\n",
    "\n",
    "for i in range(len(all_influences)):\n",
    "    individual_influences = all_influences[i]\n",
    "    ma = max(individual_influences) \n",
    "    idx = individual_influences.argmax()\n",
    "    to_rank_highest_inf.append((ma,speakers[i]+\" on \"+speakers[idx]))\n",
    "    \n",
    "to_rank_highest_inf.sort()\n",
    "to_rank_highest_inf.reverse()\n",
    "to_rank_highest_inf"
   ]
  },
  {
   "cell_type": "code",
   "execution_count": null,
   "metadata": {
    "collapsed": true
   },
   "outputs": [],
   "source": [
    "out.write(\"\\nLargest Single Influence\\n\")\n",
    "for el in to_rank_highest_inf:\n",
    "    out.write(str(el)+\"\\n\")"
   ]
  },
  {
   "cell_type": "code",
   "execution_count": null,
   "metadata": {
    "collapsed": true
   },
   "outputs": [],
   "source": [
    "### most widespread influencer \n",
    "threshold = .0005\n",
    "to_rank_widespread_inf = []\n",
    "all_influences = hp.W\n",
    "\n",
    "for i in range(len(all_influences)):\n",
    "    individual_influences = all_influences[i]\n",
    "    higher_than = [influence for influence in individual_influences if influence>=threshold]\n",
    "    to_rank_widespread_inf.append((len(higher_than),speakers[i]))\n",
    "    \n",
    "to_rank_widespread_inf.sort()\n",
    "to_rank_widespread_inf.reverse()\n",
    "to_rank_widespread_inf"
   ]
  },
  {
   "cell_type": "code",
   "execution_count": 1010,
   "metadata": {
    "collapsed": true
   },
   "outputs": [],
   "source": [
    "out.write(\"\\nMost Widespread Influencer (threshold: \"+str(threshold)+\")\\n\")\n",
    "for el in to_rank_widespread_inf:\n",
    "    out.write(str(el)+\"\\n\")"
   ]
  },
  {
   "cell_type": "code",
   "execution_count": 1011,
   "metadata": {
    "collapsed": false
   },
   "outputs": [
    {
     "name": "stdout",
     "output_type": "stream",
     "text": [
      "William Herschel 1\n",
      "Everard Home 2\n",
      "Smithson Tennant 3\n",
      "George Pearson 3\n",
      "Charles Hatchett 3\n",
      "William Hyde Wollaston 3\n",
      "William Henry 4\n",
      "Count de Bournon 2\n",
      "Richard Chenevix 1\n",
      "Humphry Davy 6\n",
      "James Smithson 2\n",
      "H. Davy 4\n",
      "B. C. Brodie 2\n",
      "William Thomas Brande 3\n",
      "John Davy 3\n",
      "David Brewster 1\n"
     ]
    }
   ],
   "source": [
    "### most influenced one \n",
    "\n",
    "threshold = .0005\n",
    "all_influences = hp.W\n",
    "\n",
    "influenced_authors = dict([(s,[]) for s in speakers])\n",
    "\n",
    "for i in range(len(all_influences)):\n",
    "    speaker = speakers[i]\n",
    "    individual_influences = all_influences[i]\n",
    "    higher_than = [speakers[j] for j in range(len(individual_influences)) if individual_influences[j]>=threshold]\n",
    "    for author in higher_than:\n",
    "        influenced_authors[author].append(speaker)\n",
    "\n",
    "for author in influenced_authors.keys():\n",
    "    influencers = influenced_authors[author]\n",
    "    n_influencers = len(influencers)\n",
    "    if n_influencers>0: print(author,n_influencers)#,influencers)"
   ]
  },
  {
   "cell_type": "code",
   "execution_count": 1012,
   "metadata": {
    "collapsed": true
   },
   "outputs": [],
   "source": [
    "out.write(\"\\nMost Influenced (threshold: \"+str(threshold)+\")\\n\")\n",
    "for author in influenced_authors.keys():\n",
    "    influencers = influenced_authors[author]\n",
    "    n_influencers = len(influencers)\n",
    "    if n_influencers>0: out.write(author+\" \"+str(n_influencers)+\" \"+str(influencers)+\"\\n\")"
   ]
  },
  {
   "cell_type": "code",
   "execution_count": 1013,
   "metadata": {
    "collapsed": true
   },
   "outputs": [],
   "source": [
    "out.close()"
   ]
  },
  {
   "cell_type": "code",
   "execution_count": 176,
   "metadata": {
    "collapsed": true,
    "slideshow": {
     "slide_type": "skip"
    }
   },
   "outputs": [],
   "source": [
    "from IPython.display import HTML as html_print"
   ]
  },
  {
   "cell_type": "code",
   "execution_count": 177,
   "metadata": {
    "collapsed": true,
    "slideshow": {
     "slide_type": "-"
    }
   },
   "outputs": [],
   "source": [
    "def highlight_hits(text, wordlist, tokenizer):\n",
    "    #print(text)\n",
    "    tokens = tokenizer(text)\n",
    "    #print(tokens)\n",
    "    new_tokens = [f'<b>{token}</b>' if token.lower() in wordlist else token for token in tokens]\n",
    "    #print(new_tokens)\n",
    "    return ' '.join(new_tokens)"
   ]
  },
  {
   "cell_type": "code",
   "execution_count": 178,
   "metadata": {
    "collapsed": true
   },
   "outputs": [],
   "source": [
    "#df"
   ]
  },
  {
   "cell_type": "code",
   "execution_count": 218,
   "metadata": {
    "collapsed": true,
    "slideshow": {
     "slide_type": "skip"
    }
   },
   "outputs": [],
   "source": [
    "def get_ab_pairs(data : pd.DataFrame,\n",
    "                 speaker1 : str, \n",
    "                 speaker2 : str, \n",
    "                 max_gap : int = 3,\n",
    "                 wordlist : list = [],\n",
    "                 tokenizer = None):\n",
    "    outputs = []\n",
    "    \n",
    "    ###imp2change\n",
    "    \n",
    "    #for line, (speaker, year, gender, text, name_g, year_g) in data.loc[data[dim]==speaker1].iterrows():\n",
    "    for line, (year, author, text) in data.loc[data[dim]==speaker1].iterrows(): \n",
    "        responses = data.loc[line:line+max_gap]\n",
    "        #print(\"responses: \", responses)\n",
    "        s2_lines = responses.loc[responses[dim]==speaker2]\n",
    "        #print(\"len s2lines: \", len(s2_lines))\n",
    "        if len(s2_lines) > 0:\n",
    "            if tokenizer is not None:\n",
    "                html = highlight_hits(text, wordlist, tokenizer)\n",
    "                print(\"html:\",html)\n",
    "            else: print(\"tokenizer is none\")\n",
    "            output = f'<UL><LI>{speaker1}({line}): {html}'\n",
    "            hit_words = [word for word in list(set(wordlist).intersection(\n",
    "                set([word.lower() for word in tokenizer(text)])))]\n",
    "            #print(hit_words)\n",
    "            \n",
    "            \n",
    "            ###and here \n",
    "            for line2, (_,_,text2) in s2_lines.iterrows():\n",
    "                if tokenizer is not None:\n",
    "                    html = highlight_hits(text2, hit_words, tokenizer)\n",
    "                output+=(f'<LI>{speaker2}({line2}): {html}')\n",
    "            output+='</UL>'\n",
    "            outputs.append(output)\n",
    "            \n",
    "    return outputs"
   ]
  },
  {
   "cell_type": "code",
   "execution_count": 219,
   "metadata": {
    "collapsed": true,
    "slideshow": {
     "slide_type": "skip"
    }
   },
   "outputs": [],
   "source": [
    "tokenizer = vec.build_tokenizer()\n",
    "wordlist = list(vec.vocabulary_.keys())"
   ]
  },
  {
   "cell_type": "code",
   "execution_count": 224,
   "metadata": {
    "collapsed": false
   },
   "outputs": [
    {
     "data": {
      "text/plain": [
       "['spectrum']"
      ]
     },
     "execution_count": 224,
     "metadata": {},
     "output_type": "execute_result"
    }
   ],
   "source": [
    "wordlist_c = [w.lower() for w in wordlist]\n",
    "wordlist_c"
   ]
  },
  {
   "cell_type": "code",
   "execution_count": 221,
   "metadata": {
    "collapsed": true
   },
   "outputs": [],
   "source": [
    "#df.loc[df['gender']=='1680_1719-M']"
   ]
  },
  {
   "cell_type": "code",
   "execution_count": 222,
   "metadata": {
    "collapsed": false
   },
   "outputs": [
    {
     "name": "stdout",
     "output_type": "stream",
     "text": [
      "html: \n",
      "1\n"
     ]
    },
    {
     "data": {
      "text/html": [
       "<UL><LI>William Hamilton(182): <LI>William Sharp(183): </UL>"
      ],
      "text/plain": [
       "<IPython.core.display.HTML object>"
      ]
     },
     "execution_count": 222,
     "metadata": {},
     "output_type": "execute_result"
    }
   ],
   "source": [
    "pairs = get_ab_pairs(df,'William Hamilton','William Sharp',wordlist=['the'], tokenizer=tokenizer, max_gap=3)\n",
    "print(len(pairs))\n",
    "html_print(pairs[0])"
   ]
  },
  {
   "cell_type": "code",
   "execution_count": 216,
   "metadata": {
    "collapsed": false
   },
   "outputs": [
    {
     "name": "stdout",
     "output_type": "stream",
     "text": [
      "     year         author                                               text\n",
      "183  1767  William Sharp  both the splints are , designedly , made narro...\n"
     ]
    }
   ],
   "source": [
    "speaker1, speaker2 = 'William Hamilton', 'William Sharp'\n",
    "\n",
    "data=df\n",
    "max_gap=2\n",
    "for line, (year, author, text) in data.loc[data[dim]==speaker1].iterrows(): \n",
    "        responses = data.loc[line:line+max_gap]\n",
    "        #print(\"responses: \", responses)\n",
    "        s2_lines = responses.loc[responses[dim]==speaker2]\n",
    "        if len(s2_lines)>0: print(s2_lines)"
   ]
  },
  {
   "cell_type": "code",
   "execution_count": 217,
   "metadata": {
    "collapsed": false
   },
   "outputs": [
    {
     "name": "stdout",
     "output_type": "stream",
     "text": [
      "182\n",
      "206\n",
      "254\n",
      "285\n",
      "319\n",
      "367\n",
      "549\n",
      "612\n",
      "684\n",
      "849\n"
     ]
    }
   ],
   "source": [
    "for line, (year, author, text) in data.loc[data[dim]==speaker1].iterrows():\n",
    "    print(line)"
   ]
  },
  {
   "cell_type": "code",
   "execution_count": 312,
   "metadata": {
    "collapsed": false
   },
   "outputs": [
    {
     "name": "stdout",
     "output_type": "stream",
     "text": [
      "['germ', 'tissue', 'blood corpuscle', 'blood corpuscles', 'ovary', 'larva', 'filament', 'vesicle', 'germinal', 'corpuscle', 'corpuscles', 'plexus']\n",
      "of these , the first class of defects constitute the most serious evil , as they interfere with the rectilineal course of the rays of light while traversing the glass , while the latter are injurious merely from the interception of the rays , and their dispersion in all directions .the author begins this account by a statement of the usual defects incident to glass , which destroy the regularity of its action on light .\n",
      "\n",
      "\n"
     ]
    }
   ],
   "source": [
    "words = \"germ, tissue, blood corpuscle, blood corpuscles, ovary, larva, filament, vesicle, germinal, corpuscle, corpuscles, plexus\".split(\", \")\n",
    "print(words)\n",
    "for line, (year, author,text) in data.loc[data['author']=='Michael Faraday'].iterrows(): \n",
    "    for word in words:\n",
    "        if word in text: print(\"CONTAINS \"+word)\n",
    "    print(text+\"\\n\\n\")"
   ]
  },
  {
   "cell_type": "code",
   "execution_count": 225,
   "metadata": {
    "collapsed": false
   },
   "outputs": [
    {
     "data": {
      "text/plain": [
       "['spectrum']"
      ]
     },
     "execution_count": 225,
     "metadata": {},
     "output_type": "execute_result"
    }
   ],
   "source": [
    "tokenizer(\"this is the stupid spectrum thing\")"
   ]
  },
  {
   "cell_type": "code",
   "execution_count": null,
   "metadata": {
    "collapsed": true
   },
   "outputs": [],
   "source": [
    "# from file to heatmap"
   ]
  },
  {
   "cell_type": "code",
   "execution_count": 1593,
   "metadata": {
    "collapsed": false
   },
   "outputs": [
    {
     "name": "stdout",
     "output_type": "stream",
     "text": [
      "84\n"
     ]
    }
   ],
   "source": [
    "file = open('Astronomy_AllSelectedWords_40Authors_and_Caroline.txt').read()\n",
    "lines = file.split(\"\\n\")\n",
    "print(len(lines))\n",
    "lines[1]\n",
    "speakers = [l for l in lines[0].split(\"\\t\") if len(l)>0]\n",
    "#print(speakers)\n",
    "\n",
    "\n",
    "#towards the W: an array of arrays?\n",
    "W = []\n",
    "for line in lines[1:]:\n",
    "    if len(line)>3:\n",
    "        numbers = line.split(\"\\t\")[1:]\n",
    "        numbers = [n for n in numbers if len(n)>0]\n",
    "        #print(len(numbers))\n",
    "        W.append([float(n) for n in numbers])"
   ]
  },
  {
   "cell_type": "code",
   "execution_count": 1594,
   "metadata": {
    "collapsed": false
   },
   "outputs": [
    {
     "name": "stdout",
     "output_type": "stream",
     "text": [
      "41 41\n"
     ]
    }
   ],
   "source": [
    "print(len(W),len(speakers))"
   ]
  },
  {
   "cell_type": "code",
   "execution_count": 1595,
   "metadata": {
    "collapsed": true
   },
   "outputs": [],
   "source": [
    "#speakers"
   ]
  },
  {
   "cell_type": "code",
   "execution_count": 1600,
   "metadata": {
    "collapsed": false
   },
   "outputs": [
    {
     "name": "stdout",
     "output_type": "stream",
     "text": [
      "John Ellis\n",
      "Henry Cavendish\n",
      "Daines Barrington\n",
      "John Hunter\n",
      "Charles Blagden\n",
      "Everard Home\n",
      "George Pearson\n",
      "William Hyde Wollaston\n",
      "Anthony Carlisle\n",
      "H. Davy\n",
      "J. Brinkley\n",
      "[0, 4, 5, 9, 10, 14, 15, 16, 19, 23, 36]\n",
      "30 \n",
      "\n",
      "30\n",
      "30\n",
      "30\n",
      "30\n",
      "30\n",
      "30\n",
      "30\n",
      "30\n",
      "30\n",
      "30\n",
      "30\n",
      "30\n",
      "30\n",
      "30\n",
      "30\n",
      "30\n",
      "30\n",
      "30\n",
      "30\n",
      "30\n",
      "30\n",
      "30\n",
      "30\n",
      "30\n",
      "30\n",
      "30\n",
      "30\n",
      "30\n",
      "30\n",
      "30\n"
     ]
    }
   ],
   "source": [
    "#remove some authors\n",
    "\n",
    "rej = ['H. Davy', 'J. Brinkley'] #doubles\n",
    "\n",
    "rej += ['John Hunter', 'Everard Home', 'Anthony Carlisle','William Hyde Wollaston', 'Henry Cavendish', 'John Ellis',\n",
    "'George Pearson', 'Daines Barrington', 'Charles Blagden']\n",
    "\n",
    "prvW, new_speakers = [],[]\n",
    "idxs = []\n",
    "for i in range(len(W)):\n",
    "    author = speakers[i]\n",
    "    if author in rej: \n",
    "        print(author)\n",
    "        idxs.append(i)\n",
    "    else: \n",
    "        prvW.append(W[i])\n",
    "        new_speakers.append(author)\n",
    "        \n",
    "        \n",
    "print(idxs)\n",
    "\n",
    "neW = []\n",
    "for el in prvW:\n",
    "    new_el = []\n",
    "    for i in range(len(el)):\n",
    "        if i not in idxs: new_el.append(el[i])\n",
    "    neW.append(new_el)\n",
    "    \n",
    "print(len(neW),\"\\n\")\n",
    "for e in neW: print(len(e))"
   ]
  },
  {
   "cell_type": "code",
   "execution_count": 1601,
   "metadata": {
    "collapsed": false
   },
   "outputs": [
    {
     "data": {
      "text/plain": [
       "['John Swinton',\n",
       " 'Nevil Maskelyne',\n",
       " 'Samuel Dunn',\n",
       " 'William Hamilton',\n",
       " 'Joseph Priestley',\n",
       " 'Francis Wollaston',\n",
       " 'Tiberius Cavallo',\n",
       " 'Edward Pigott',\n",
       " 'William Herschel',\n",
       " 'Charles Hatchett',\n",
       " 'Thomas Andrew Knight',\n",
       " 'B. C. Brodie',\n",
       " 'Count de Bournon',\n",
       " 'David Brewster',\n",
       " 'Henry Kater',\n",
       " 'Humphry Davy',\n",
       " 'James Ivory',\n",
       " 'John Brinkley',\n",
       " 'John Davy',\n",
       " 'John Pond',\n",
       " 'Thomas Young',\n",
       " 'William Henry',\n",
       " 'William Thomas Brande',\n",
       " 'Robert Woodhouse',\n",
       " 'Charles Bell',\n",
       " 'Edward Sabine',\n",
       " 'J. F. W. Herschel',\n",
       " 'Peter Barlow',\n",
       " 'Samuel Hunter Christie',\n",
       " 'Caroline Herschel']"
      ]
     },
     "execution_count": 1601,
     "metadata": {},
     "output_type": "execute_result"
    }
   ],
   "source": [
    "new_speakers"
   ]
  },
  {
   "cell_type": "code",
   "execution_count": 1603,
   "metadata": {
    "collapsed": false
   },
   "outputs": [
    {
     "data": {
      "image/png": "[encoded data removed]",
      "text/plain": [
       "<Figure size 936x936 with 2 Axes>"
      ]
     },
     "metadata": {
      "needs_background": "light"
     },
     "output_type": "display_data"
    },
    {
     "name": "stdout",
     "output_type": "stream",
     "text": [
      "CPU times: user 2.2 s, sys: 311 ms, total: 2.51 s\n",
      "Wall time: 1.1 s\n"
     ]
    }
   ],
   "source": [
    "%%time\n",
    "\n",
    "#speakers.reverse()\n",
    "\n",
    "style='jet'\n",
    "\n",
    "plt.figure(figsize = (13,13))\n",
    "plt.imshow(neW, cmap=style)\n",
    "plt.yticks(np.arange(len(new_speakers)),new_speakers, fontsize=19);\n",
    "plt.xticks(np.arange(len(new_speakers)),new_speakers,rotation=90, fontsize=19)\n",
    "plt.colorbar()\n",
    "\n",
    "\n",
    "#plt.savefig(\"Astronomy_AllWords_29Authors_and_Caroline_bigger_jet.png\", bbox_inches=\"tight\")\n",
    "plt.show()"
   ]
  },
  {
   "cell_type": "code",
   "execution_count": 1476,
   "metadata": {
    "collapsed": false
   },
   "outputs": [
    {
     "data": {
      "text/plain": [
       "33"
      ]
     },
     "execution_count": 1476,
     "metadata": {},
     "output_type": "execute_result"
    }
   ],
   "source": [
    "len(neW[0])"
   ]
  },
  {
   "cell_type": "code",
   "execution_count": 1586,
   "metadata": {
    "collapsed": false
   },
   "outputs": [
    {
     "data": {
      "text/plain": [
       "[\"(21, 'Daines Barrington')\",\n",
       " \"(19, 'Charles Blagden')\",\n",
       " \"(19, 'Caroline Herschel')\",\n",
       " \"(17, 'Samuel Dunn')\",\n",
       " \"(17, 'Henry Cavendish')\",\n",
       " \"(16, 'George Pearson')\",\n",
       " \"(15, 'John Hunter')\",\n",
       " \"(14, 'Robert Woodhouse')\",\n",
       " \"(13, 'Anthony Carlisle')\",\n",
       " \"(12, 'John Swinton')\",\n",
       " \"(12, 'Count de Bournon')\",\n",
       " \"(11, 'Thomas Young')\",\n",
       " \"(11, 'James Ivory')\",\n",
       " \"(11, 'Edward Sabine')\",\n",
       " \"(11, 'Charles Hatchett')\",\n",
       " \"(10, 'John Davy')\",\n",
       " \"(9, 'William Thomas Brande')\",\n",
       " \"(9, 'J. Brinkley')\",\n",
       " \"(9, 'Edward Pigott')\",\n",
       " \"(9, 'Charles Bell')\",\n",
       " \"(8, 'Tiberius Cavallo')\",\n",
       " \"(8, 'David Brewster')\",\n",
       " \"(7, 'William Hamilton')\",\n",
       " \"(7, 'Peter Barlow')\",\n",
       " \"(7, 'John Ellis')\",\n",
       " \"(7, 'J. F. W. Herschel')\",\n",
       " \"(7, 'B. C. Brodie')\",\n",
       " \"(6, 'Nevil Maskelyne')\",\n",
       " \"(5, 'William Henry')\",\n",
       " \"(5, 'Samuel Hunter Christie')\",\n",
       " \"(5, 'John Pond')\",\n",
       " \"(5, 'Henry Kater')\",\n",
       " \"(5, 'H. Davy')\",\n",
       " \"(4, 'William Hyde Wollaston')\",\n",
       " \"(4, 'Thomas Andrew Knight')\",\n",
       " \"(4, 'John Brinkley')\",\n",
       " \"(3, 'Joseph Priestley')\",\n",
       " \"(3, 'Francis Wollaston')\",\n",
       " \"(3, 'Everard Home')\",\n",
       " \"(1, 'William Herschel')\",\n",
       " \"(1, 'Humphry Davy')\"]"
      ]
     },
     "execution_count": 1586,
     "metadata": {},
     "output_type": "execute_result"
    }
   ],
   "source": [
    "# \n",
    "#stats = open('Chemistry_Oxygen_25Authors_stats.txt').read()\n",
    "stats = open('Astronomy_AllSelectedWords_40Authors_and_Caroline_stats.txt').read()\n",
    "sections = stats.split('\\n\\n')\n",
    "largest = sections[1].split('\\n')[1:]\n",
    "largest"
   ]
  },
  {
   "cell_type": "code",
   "execution_count": 1589,
   "metadata": {
    "collapsed": false
   },
   "outputs": [
    {
     "name": "stdout",
     "output_type": "stream",
     "text": [
      "['Daines Barrington', 'Charles Blagden', 'Caroline Herschel', 'Samuel Dunn', 'Henry Cavendish', 'George Pearson', 'John Hunter', 'Robert Woodhouse', 'Anthony Carlisle', 'John Swinton', 'Count de Bournon', 'Thomas Young'] [21.0, 19.0, 19.0, 17.0, 17.0, 16.0, 15.0, 14.0, 13.0, 12.0, 12.0, 11.0]\n",
      "\\begin{tabular}{rl}\n",
      "\\toprule\n",
      " N. of Influenced Authors &            Authors \\\\\n",
      "\\midrule\n",
      "                     21.0 &  Daines Barrington \\\\\n",
      "                     19.0 &    Charles Blagden \\\\\n",
      "                     19.0 &  Caroline Herschel \\\\\n",
      "                     17.0 &        Samuel Dunn \\\\\n",
      "                     17.0 &    Henry Cavendish \\\\\n",
      "                     16.0 &     George Pearson \\\\\n",
      "                     15.0 &        John Hunter \\\\\n",
      "                     14.0 &   Robert Woodhouse \\\\\n",
      "                     13.0 &   Anthony Carlisle \\\\\n",
      "                     12.0 &       John Swinton \\\\\n",
      "                     12.0 &   Count de Bournon \\\\\n",
      "                     11.0 &       Thomas Young \\\\\n",
      "\\bottomrule\n",
      "\\end{tabular}\n",
      "\n"
     ]
    }
   ],
   "source": [
    "# 2latex\n",
    "n=12\n",
    "iv = [round(float(l.split(',')[0][1:]),4) for l in largest[:n]]\n",
    "ii = [l.split(',')[1][2:-2] for l in largest[:n]]\n",
    "print(ii, iv)\n",
    "\n",
    "title = 'N. of Influenced Authors'\n",
    "\n",
    "cats = {title: iv,\n",
    "        'Authors': ii\n",
    "        }\n",
    "\n",
    "df = pd.DataFrame(cats, columns = [title, 'Authors'])\n",
    "\n",
    "print(df.to_latex(index=False))"
   ]
  },
  {
   "cell_type": "code",
   "execution_count": null,
   "metadata": {
    "collapsed": true
   },
   "outputs": [],
   "source": []
  }
 ],
 "metadata": {
  "celltoolbar": "Slideshow",
  "kernelspec": {
   "display_name": "Python [anaconda]",
   "language": "python",
   "name": "Python [anaconda]"
  },
  "language_info": {
   "codemirror_mode": {
    "name": "ipython",
    "version": 3
   },
   "file_extension": ".py",
   "mimetype": "text/x-python",
   "name": "python",
   "nbconvert_exporter": "python",
   "pygments_lexer": "ipython3",
   "version": "3.5.2"
  }
 },
 "nbformat": 4,
 "nbformat_minor": 4
}
